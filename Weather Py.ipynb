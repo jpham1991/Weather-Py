{
 "cells": [
  {
   "cell_type": "code",
   "execution_count": 467,
   "metadata": {
    "collapsed": true
   },
   "outputs": [],
   "source": [
    "from citipy import citipy\n",
    "import seaborn as sns\n",
    "import numpy as np\n",
    "import pandas as pd\n",
    "import matplotlib.pyplot as plt\n",
    "import requests as requests\n",
    "import os\n",
    "import json\n",
    "import random"
   ]
  },
  {
   "cell_type": "code",
   "execution_count": 566,
   "metadata": {},
   "outputs": [],
   "source": [
    "file_name = os.path.join(\"Resources\",\"worldcities.csv\")\n",
    "world_cities_pd = pd.read_csv(file_name)\n"
   ]
  },
  {
   "cell_type": "code",
   "execution_count": 594,
   "metadata": {},
   "outputs": [
    {
     "data": {
      "text/html": [
       "<div>\n",
       "<style>\n",
       "    .dataframe thead tr:only-child th {\n",
       "        text-align: right;\n",
       "    }\n",
       "\n",
       "    .dataframe thead th {\n",
       "        text-align: left;\n",
       "    }\n",
       "\n",
       "    .dataframe tbody tr th {\n",
       "        vertical-align: top;\n",
       "    }\n",
       "</style>\n",
       "<table border=\"1\" class=\"dataframe\">\n",
       "  <thead>\n",
       "    <tr style=\"text-align: right;\">\n",
       "      <th></th>\n",
       "      <th>Country</th>\n",
       "      <th>City</th>\n",
       "      <th>Latitude</th>\n",
       "      <th>Longitude</th>\n",
       "    </tr>\n",
       "  </thead>\n",
       "  <tbody>\n",
       "    <tr>\n",
       "      <th>4943</th>\n",
       "      <td>in</td>\n",
       "      <td>binika</td>\n",
       "      <td>21.033333</td>\n",
       "      <td>83.800000</td>\n",
       "    </tr>\n",
       "    <tr>\n",
       "      <th>2566</th>\n",
       "      <td>ru</td>\n",
       "      <td>ayan</td>\n",
       "      <td>56.450000</td>\n",
       "      <td>138.166667</td>\n",
       "    </tr>\n",
       "    <tr>\n",
       "      <th>30331</th>\n",
       "      <td>br</td>\n",
       "      <td>panelas</td>\n",
       "      <td>-8.666667</td>\n",
       "      <td>-36.016667</td>\n",
       "    </tr>\n",
       "    <tr>\n",
       "      <th>15071</th>\n",
       "      <td>hu</td>\n",
       "      <td>gyongyospata</td>\n",
       "      <td>47.815049</td>\n",
       "      <td>19.789245</td>\n",
       "    </tr>\n",
       "    <tr>\n",
       "      <th>46631</th>\n",
       "      <td>pl</td>\n",
       "      <td>zielonka</td>\n",
       "      <td>52.303157</td>\n",
       "      <td>21.158459</td>\n",
       "    </tr>\n",
       "    <tr>\n",
       "      <th>9621</th>\n",
       "      <td>us</td>\n",
       "      <td>country club hills</td>\n",
       "      <td>41.568056</td>\n",
       "      <td>-87.720278</td>\n",
       "    </tr>\n",
       "    <tr>\n",
       "      <th>41651</th>\n",
       "      <td>pe</td>\n",
       "      <td>tingo maria</td>\n",
       "      <td>-9.300000</td>\n",
       "      <td>-75.983333</td>\n",
       "    </tr>\n",
       "    <tr>\n",
       "      <th>33894</th>\n",
       "      <td>hu</td>\n",
       "      <td>ricse</td>\n",
       "      <td>48.325645</td>\n",
       "      <td>21.970694</td>\n",
       "    </tr>\n",
       "    <tr>\n",
       "      <th>1645</th>\n",
       "      <td>be</td>\n",
       "      <td>anzegem</td>\n",
       "      <td>50.833333</td>\n",
       "      <td>3.466667</td>\n",
       "    </tr>\n",
       "    <tr>\n",
       "      <th>32586</th>\n",
       "      <td>mx</td>\n",
       "      <td>progreso</td>\n",
       "      <td>32.580000</td>\n",
       "      <td>-115.583889</td>\n",
       "    </tr>\n",
       "  </tbody>\n",
       "</table>\n",
       "</div>"
      ],
      "text/plain": [
       "      Country                City   Latitude   Longitude\n",
       "4943       in              binika  21.033333   83.800000\n",
       "2566       ru                ayan  56.450000  138.166667\n",
       "30331      br             panelas  -8.666667  -36.016667\n",
       "15071      hu        gyongyospata  47.815049   19.789245\n",
       "46631      pl            zielonka  52.303157   21.158459\n",
       "9621       us  country club hills  41.568056  -87.720278\n",
       "41651      pe         tingo maria  -9.300000  -75.983333\n",
       "33894      hu               ricse  48.325645   21.970694\n",
       "1645       be             anzegem  50.833333    3.466667\n",
       "32586      mx            progreso  32.580000 -115.583889"
      ]
     },
     "execution_count": 594,
     "metadata": {},
     "output_type": "execute_result"
    }
   ],
   "source": [
    "selected_cities = world_cities_pd.sample(n=10, random_state = 1)\n",
    "selected_cities"
   ]
  },
  {
   "cell_type": "code",
   "execution_count": 595,
   "metadata": {},
   "outputs": [
    {
     "data": {
      "text/html": [
       "<div>\n",
       "<style>\n",
       "    .dataframe thead tr:only-child th {\n",
       "        text-align: right;\n",
       "    }\n",
       "\n",
       "    .dataframe thead th {\n",
       "        text-align: left;\n",
       "    }\n",
       "\n",
       "    .dataframe tbody tr th {\n",
       "        vertical-align: top;\n",
       "    }\n",
       "</style>\n",
       "<table border=\"1\" class=\"dataframe\">\n",
       "  <thead>\n",
       "    <tr style=\"text-align: right;\">\n",
       "      <th></th>\n",
       "      <th>Country</th>\n",
       "      <th>City</th>\n",
       "      <th>Latitude</th>\n",
       "      <th>Longitude</th>\n",
       "    </tr>\n",
       "  </thead>\n",
       "  <tbody>\n",
       "    <tr>\n",
       "      <th>4943</th>\n",
       "      <td>in</td>\n",
       "      <td>binika</td>\n",
       "      <td>21.033333</td>\n",
       "      <td>83.800000</td>\n",
       "    </tr>\n",
       "    <tr>\n",
       "      <th>2566</th>\n",
       "      <td>ru</td>\n",
       "      <td>ayan</td>\n",
       "      <td>56.450000</td>\n",
       "      <td>138.166667</td>\n",
       "    </tr>\n",
       "    <tr>\n",
       "      <th>30331</th>\n",
       "      <td>br</td>\n",
       "      <td>panelas</td>\n",
       "      <td>-8.666667</td>\n",
       "      <td>-36.016667</td>\n",
       "    </tr>\n",
       "    <tr>\n",
       "      <th>15071</th>\n",
       "      <td>hu</td>\n",
       "      <td>gyongyospata</td>\n",
       "      <td>47.815049</td>\n",
       "      <td>19.789245</td>\n",
       "    </tr>\n",
       "    <tr>\n",
       "      <th>46631</th>\n",
       "      <td>pl</td>\n",
       "      <td>zielonka</td>\n",
       "      <td>52.303157</td>\n",
       "      <td>21.158459</td>\n",
       "    </tr>\n",
       "    <tr>\n",
       "      <th>9621</th>\n",
       "      <td>us</td>\n",
       "      <td>country club hills</td>\n",
       "      <td>41.568056</td>\n",
       "      <td>-87.720278</td>\n",
       "    </tr>\n",
       "    <tr>\n",
       "      <th>41651</th>\n",
       "      <td>pe</td>\n",
       "      <td>tingo maria</td>\n",
       "      <td>-9.300000</td>\n",
       "      <td>-75.983333</td>\n",
       "    </tr>\n",
       "    <tr>\n",
       "      <th>33894</th>\n",
       "      <td>hu</td>\n",
       "      <td>ricse</td>\n",
       "      <td>48.325645</td>\n",
       "      <td>21.970694</td>\n",
       "    </tr>\n",
       "    <tr>\n",
       "      <th>1645</th>\n",
       "      <td>be</td>\n",
       "      <td>anzegem</td>\n",
       "      <td>50.833333</td>\n",
       "      <td>3.466667</td>\n",
       "    </tr>\n",
       "    <tr>\n",
       "      <th>32586</th>\n",
       "      <td>mx</td>\n",
       "      <td>progreso</td>\n",
       "      <td>32.580000</td>\n",
       "      <td>-115.583889</td>\n",
       "    </tr>\n",
       "  </tbody>\n",
       "</table>\n",
       "</div>"
      ],
      "text/plain": [
       "      Country                City   Latitude   Longitude\n",
       "4943       in              binika  21.033333   83.800000\n",
       "2566       ru                ayan  56.450000  138.166667\n",
       "30331      br             panelas  -8.666667  -36.016667\n",
       "15071      hu        gyongyospata  47.815049   19.789245\n",
       "46631      pl            zielonka  52.303157   21.158459\n",
       "9621       us  country club hills  41.568056  -87.720278\n",
       "41651      pe         tingo maria  -9.300000  -75.983333\n",
       "33894      hu               ricse  48.325645   21.970694\n",
       "1645       be             anzegem  50.833333    3.466667\n",
       "32586      mx            progreso  32.580000 -115.583889"
      ]
     },
     "execution_count": 595,
     "metadata": {},
     "output_type": "execute_result"
    }
   ],
   "source": [
    "weather_cities_df = selected_cities\n",
    "weather_cities_df"
   ]
  },
  {
   "cell_type": "code",
   "execution_count": 596,
   "metadata": {},
   "outputs": [
    {
     "data": {
      "text/plain": [
       "['binika',\n",
       " 'ayan',\n",
       " 'panelas',\n",
       " 'gyongyospata',\n",
       " 'zielonka',\n",
       " 'country club hills',\n",
       " 'tingo maria',\n",
       " 'ricse',\n",
       " 'anzegem',\n",
       " 'progreso']"
      ]
     },
     "execution_count": 596,
     "metadata": {},
     "output_type": "execute_result"
    }
   ],
   "source": [
    "cities_list = list(weather_cities_df[\"City\"])\n",
    "cities_list"
   ]
  },
  {
   "cell_type": "code",
   "execution_count": 597,
   "metadata": {},
   "outputs": [],
   "source": [
    "api_key = \"25bc90a1196e6f153eece0bc0b0fc9eb\"\n",
    "url = \"http://api.openweathermap.org/data/2.5/weather?\"\n",
    "units = \"Imperial\"\n",
    "\n",
    "query_url = url + \"appid=\" + api_key + \"&units=\" + units + \"&q=\" "
   ]
  },
  {
   "cell_type": "code",
   "execution_count": 598,
   "metadata": {
    "collapsed": true
   },
   "outputs": [],
   "source": [
    "weather_data = []\n",
    "\n",
    "for city in cities_list:\n",
    "    response = requests.get(query_url + city).json()\n",
    "    weather_data.append(response)"
   ]
  },
  {
   "cell_type": "code",
   "execution_count": 599,
   "metadata": {},
   "outputs": [
    {
     "data": {
      "text/plain": [
       "[{'base': 'stations',\n",
       "  'clouds': {'all': 0},\n",
       "  'cod': 200,\n",
       "  'coord': {'lat': 21.03, 'lon': 83.8},\n",
       "  'dt': 1517037964,\n",
       "  'id': 1275558,\n",
       "  'main': {'grnd_level': 1009.41,\n",
       "   'humidity': 63,\n",
       "   'pressure': 1009.41,\n",
       "   'sea_level': 1028.23,\n",
       "   'temp': 74.73,\n",
       "   'temp_max': 74.73,\n",
       "   'temp_min': 74.73},\n",
       "  'name': 'Binika',\n",
       "  'sys': {'country': 'IN',\n",
       "   'message': 0.0032,\n",
       "   'sunrise': 1517014990,\n",
       "   'sunset': 1517055129},\n",
       "  'weather': [{'description': 'clear sky',\n",
       "    'icon': '01d',\n",
       "    'id': 800,\n",
       "    'main': 'Clear'}],\n",
       "  'wind': {'deg': 23.5007, 'speed': 4.61}},\n",
       " {'base': 'stations',\n",
       "  'clouds': {'all': 8},\n",
       "  'cod': 200,\n",
       "  'coord': {'lat': 40.67, 'lon': 33.6},\n",
       "  'dt': 1517037612,\n",
       "  'id': 749747,\n",
       "  'main': {'grnd_level': 887.09,\n",
       "   'humidity': 78,\n",
       "   'pressure': 887.09,\n",
       "   'sea_level': 1044.52,\n",
       "   'temp': 11.33,\n",
       "   'temp_max': 11.33,\n",
       "   'temp_min': 11.33},\n",
       "  'name': 'Ayan',\n",
       "  'sys': {'country': 'TR',\n",
       "   'message': 0.008,\n",
       "   'sunrise': 1517029195,\n",
       "   'sunset': 1517065036},\n",
       "  'weather': [{'description': 'clear sky',\n",
       "    'icon': '02d',\n",
       "    'id': 800,\n",
       "    'main': 'Clear'}],\n",
       "  'wind': {'deg': 324.001, 'speed': 3.27}},\n",
       " {'base': 'stations',\n",
       "  'clouds': {'all': 92},\n",
       "  'cod': 200,\n",
       "  'coord': {'lat': -8.66, 'lon': -36.01},\n",
       "  'dt': 1517037965,\n",
       "  'id': 3393190,\n",
       "  'main': {'grnd_level': 963.05,\n",
       "   'humidity': 95,\n",
       "   'pressure': 963.05,\n",
       "   'sea_level': 1023.77,\n",
       "   'temp': 68.21,\n",
       "   'temp_max': 68.21,\n",
       "   'temp_min': 68.21},\n",
       "  'name': 'Panelas',\n",
       "  'sys': {'country': 'BR',\n",
       "   'message': 0.0039,\n",
       "   'sunrise': 1517041300,\n",
       "   'sunset': 1517086318},\n",
       "  'weather': [{'description': 'overcast clouds',\n",
       "    'icon': '04n',\n",
       "    'id': 804,\n",
       "    'main': 'Clouds'}],\n",
       "  'wind': {'deg': 55.0007, 'speed': 3.6}},\n",
       " {'base': 'stations',\n",
       "  'clouds': {'all': 20},\n",
       "  'cod': 200,\n",
       "  'coord': {'lat': 47.81, 'lon': 19.79},\n",
       "  'dt': 1517036400,\n",
       "  'id': 3052026,\n",
       "  'main': {'humidity': 100,\n",
       "   'pressure': 1029,\n",
       "   'temp': 26.6,\n",
       "   'temp_max': 26.6,\n",
       "   'temp_min': 26.6},\n",
       "  'name': 'Gyongyospata',\n",
       "  'sys': {'country': 'HU',\n",
       "   'id': 5724,\n",
       "   'message': 0.0173,\n",
       "   'sunrise': 1517033640,\n",
       "   'sunset': 1517067228,\n",
       "   'type': 1},\n",
       "  'visibility': 4000,\n",
       "  'weather': [{'description': 'mist',\n",
       "    'icon': '50d',\n",
       "    'id': 701,\n",
       "    'main': 'Mist'}],\n",
       "  'wind': {'speed': 3.36}},\n",
       " {'base': 'stations',\n",
       "  'clouds': {'all': 90},\n",
       "  'cod': 200,\n",
       "  'coord': {'lat': 52.31, 'lon': 21.16},\n",
       "  'dt': 1517036400,\n",
       "  'id': 753276,\n",
       "  'main': {'humidity': 86,\n",
       "   'pressure': 1026,\n",
       "   'temp': 37.4,\n",
       "   'temp_max': 37.4,\n",
       "   'temp_min': 37.4},\n",
       "  'name': 'Zielonka',\n",
       "  'sys': {'country': 'PL',\n",
       "   'id': 5374,\n",
       "   'message': 0.0038,\n",
       "   'sunrise': 1517034219,\n",
       "   'sunset': 1517065995,\n",
       "   'type': 1},\n",
       "  'visibility': 2900,\n",
       "  'weather': [{'description': 'mist',\n",
       "    'icon': '50d',\n",
       "    'id': 701,\n",
       "    'main': 'Mist'}],\n",
       "  'wind': {'deg': 270, 'speed': 4.7}},\n",
       " {'base': 'stations',\n",
       "  'clouds': {'all': 90},\n",
       "  'cod': 200,\n",
       "  'coord': {'lat': 41.57, 'lon': -87.72},\n",
       "  'dt': 1517037300,\n",
       "  'id': 4888892,\n",
       "  'main': {'humidity': 66,\n",
       "   'pressure': 1017,\n",
       "   'temp': 49.17,\n",
       "   'temp_max': 51.8,\n",
       "   'temp_min': 46.4},\n",
       "  'name': 'Country Club Hills',\n",
       "  'sys': {'country': 'US',\n",
       "   'id': 966,\n",
       "   'message': 0.0042,\n",
       "   'sunrise': 1517058422,\n",
       "   'sunset': 1517094052,\n",
       "   'type': 1},\n",
       "  'visibility': 16093,\n",
       "  'weather': [{'description': 'overcast clouds',\n",
       "    'icon': '04n',\n",
       "    'id': 804,\n",
       "    'main': 'Clouds'}],\n",
       "  'wind': {'deg': 210, 'gust': 13.4, 'speed': 20.8}},\n",
       " {'base': 'stations',\n",
       "  'clouds': {'all': 68},\n",
       "  'cod': 200,\n",
       "  'coord': {'lat': -9.29, 'lon': -76.01},\n",
       "  'dt': 1517037967,\n",
       "  'id': 3691348,\n",
       "  'main': {'grnd_level': 870.96,\n",
       "   'humidity': 90,\n",
       "   'pressure': 870.96,\n",
       "   'sea_level': 1020.81,\n",
       "   'temp': 64.65,\n",
       "   'temp_max': 64.65,\n",
       "   'temp_min': 64.65},\n",
       "  'name': 'Tingo Maria',\n",
       "  'rain': {'3h': 0.11},\n",
       "  'sys': {'country': 'PE',\n",
       "   'message': 0.0088,\n",
       "   'sunrise': 1517050851,\n",
       "   'sunset': 1517095969},\n",
       "  'weather': [{'description': 'light rain',\n",
       "    'icon': '10n',\n",
       "    'id': 500,\n",
       "    'main': 'Rain'}],\n",
       "  'wind': {'deg': 244.001, 'speed': 1.81}},\n",
       " {'base': 'stations',\n",
       "  'clouds': {'all': 75},\n",
       "  'cod': 200,\n",
       "  'coord': {'lat': 48.32, 'lon': 21.97},\n",
       "  'dt': 1517036400,\n",
       "  'id': 716081,\n",
       "  'main': {'humidity': 86,\n",
       "   'pressure': 1029,\n",
       "   'temp': 34.68,\n",
       "   'temp_max': 37.4,\n",
       "   'temp_min': 30.2},\n",
       "  'name': 'Ricse',\n",
       "  'sys': {'country': 'HU',\n",
       "   'id': 5907,\n",
       "   'message': 0.005,\n",
       "   'sunrise': 1517033211,\n",
       "   'sunset': 1517066611,\n",
       "   'type': 1},\n",
       "  'visibility': 10000,\n",
       "  'weather': [{'description': 'broken clouds',\n",
       "    'icon': '04d',\n",
       "    'id': 803,\n",
       "    'main': 'Clouds'}],\n",
       "  'wind': {'deg': 360, 'speed': 6.93}},\n",
       " {'base': 'stations',\n",
       "  'clouds': {'all': 90},\n",
       "  'cod': 200,\n",
       "  'coord': {'lat': 50.84, 'lon': 3.48},\n",
       "  'dt': 1517036400,\n",
       "  'id': 2803131,\n",
       "  'main': {'humidity': 93,\n",
       "   'pressure': 1030,\n",
       "   'temp': 38.79,\n",
       "   'temp_max': 39.2,\n",
       "   'temp_min': 37.4},\n",
       "  'name': 'Anzegem',\n",
       "  'sys': {'country': 'BE',\n",
       "   'id': 5625,\n",
       "   'message': 0.004,\n",
       "   'sunrise': 1517038140,\n",
       "   'sunset': 1517070560,\n",
       "   'type': 1},\n",
       "  'visibility': 5000,\n",
       "  'weather': [{'description': 'mist',\n",
       "    'icon': '50n',\n",
       "    'id': 701,\n",
       "    'main': 'Mist'}],\n",
       "  'wind': {'deg': 180, 'speed': 4.7}},\n",
       " {'base': 'stations',\n",
       "  'clouds': {'all': 0},\n",
       "  'cod': 200,\n",
       "  'coord': {'lat': -34.68, 'lon': -56.22},\n",
       "  'dt': 1517036400,\n",
       "  'id': 3440963,\n",
       "  'main': {'humidity': 77,\n",
       "   'pressure': 1012,\n",
       "   'temp': 66.2,\n",
       "   'temp_max': 66.2,\n",
       "   'temp_min': 66.2},\n",
       "  'name': 'Progreso',\n",
       "  'sys': {'country': 'UY',\n",
       "   'id': 4623,\n",
       "   'message': 0.0049,\n",
       "   'sunrise': 1517043612,\n",
       "   'sunset': 1517093684,\n",
       "   'type': 1},\n",
       "  'visibility': 10000,\n",
       "  'weather': [{'description': 'clear sky',\n",
       "    'icon': '01n',\n",
       "    'id': 800,\n",
       "    'main': 'Clear'}],\n",
       "  'wind': {'deg': 50, 'speed': 6.93}}]"
      ]
     },
     "execution_count": 599,
     "metadata": {},
     "output_type": "execute_result"
    }
   ],
   "source": [
    "weather_data"
   ]
  },
  {
   "cell_type": "code",
   "execution_count": 600,
   "metadata": {},
   "outputs": [],
   "source": [
    "weather_cities_df[\"Temperature F\"] = \"\"\n",
    "weather_cities_df[\"Humidity %\"] = \"\"\n",
    "weather_cities_df[\"Cloudiness %\"] = \"\"\n",
    "weather_cities_df[\"Wind Speed mph\"] = \"\"   \n"
   ]
  },
  {
   "cell_type": "code",
   "execution_count": 601,
   "metadata": {},
   "outputs": [
    {
     "data": {
      "text/plain": [
       "[74.73, 11.33, 68.21, 26.6, 37.4, 49.17, 64.65, 34.68, 38.79, 66.2]"
      ]
     },
     "execution_count": 601,
     "metadata": {},
     "output_type": "execute_result"
    }
   ],
   "source": [
    "temp_data = [data.get(\"main\", {}).get(\"temp\", {}) for data in weather_data]\n",
    "temp_data"
   ]
  },
  {
   "cell_type": "code",
   "execution_count": 602,
   "metadata": {},
   "outputs": [
    {
     "data": {
      "text/plain": [
       "[63, 78, 95, 100, 86, 66, 90, 86, 93, 77]"
      ]
     },
     "execution_count": 602,
     "metadata": {},
     "output_type": "execute_result"
    }
   ],
   "source": [
    "hum_data = [data.get(\"main\", {}).get(\"humidity\", {}) for data in weather_data]\n",
    "hum_data"
   ]
  },
  {
   "cell_type": "code",
   "execution_count": 603,
   "metadata": {},
   "outputs": [
    {
     "data": {
      "text/plain": [
       "[0, 8, 92, 20, 90, 90, 68, 75, 90, 0]"
      ]
     },
     "execution_count": 603,
     "metadata": {},
     "output_type": "execute_result"
    }
   ],
   "source": [
    "cloud_data = [data.get(\"clouds\", {}).get(\"all\", {}) for data in weather_data]\n",
    "cloud_data"
   ]
  },
  {
   "cell_type": "code",
   "execution_count": 604,
   "metadata": {
    "scrolled": true
   },
   "outputs": [
    {
     "data": {
      "text/plain": [
       "[4.61, 3.27, 3.6, 3.36, 4.7, 20.8, 1.81, 6.93, 4.7, 6.93]"
      ]
     },
     "execution_count": 604,
     "metadata": {},
     "output_type": "execute_result"
    }
   ],
   "source": [
    "wind_data = [data.get(\"wind\", {}).get(\"speed\", {}) for data in weather_data]\n",
    "wind_data\n"
   ]
  },
  {
   "cell_type": "code",
   "execution_count": null,
   "metadata": {
    "collapsed": true
   },
   "outputs": [],
   "source": []
  },
  {
   "cell_type": "code",
   "execution_count": 605,
   "metadata": {},
   "outputs": [
    {
     "name": "stdout",
     "output_type": "stream",
     "text": [
      "Now retrieving info for city #1\n",
      "http://api.openweathermap.org/data/2.5/weather?/appid=25bc90a1196e6f153eece0bc0b0fc9eb&units=Imperial&q=binika\n",
      "Now retrieving info for city #2\n",
      "http://api.openweathermap.org/data/2.5/weather?/appid=25bc90a1196e6f153eece0bc0b0fc9eb&units=Imperial&q=ayan\n",
      "Now retrieving info for city #3\n",
      "http://api.openweathermap.org/data/2.5/weather?/appid=25bc90a1196e6f153eece0bc0b0fc9eb&units=Imperial&q=panelas\n",
      "Now retrieving info for city #4\n",
      "http://api.openweathermap.org/data/2.5/weather?/appid=25bc90a1196e6f153eece0bc0b0fc9eb&units=Imperial&q=gyongyospata\n",
      "Now retrieving info for city #5\n",
      "http://api.openweathermap.org/data/2.5/weather?/appid=25bc90a1196e6f153eece0bc0b0fc9eb&units=Imperial&q=zielonka\n",
      "Now retrieving info for city #6\n",
      "http://api.openweathermap.org/data/2.5/weather?/appid=25bc90a1196e6f153eece0bc0b0fc9eb&units=Imperial&q=country+club+hills\n",
      "Now retrieving info for city #7\n",
      "http://api.openweathermap.org/data/2.5/weather?/appid=25bc90a1196e6f153eece0bc0b0fc9eb&units=Imperial&q=tingo+maria\n",
      "Now retrieving info for city #8\n",
      "http://api.openweathermap.org/data/2.5/weather?/appid=25bc90a1196e6f153eece0bc0b0fc9eb&units=Imperial&q=ricse\n",
      "Now retrieving info for city #9\n",
      "http://api.openweathermap.org/data/2.5/weather?/appid=25bc90a1196e6f153eece0bc0b0fc9eb&units=Imperial&q=anzegem\n",
      "Now retrieving info for city #10\n",
      "http://api.openweathermap.org/data/2.5/weather?/appid=25bc90a1196e6f153eece0bc0b0fc9eb&units=Imperial&q=progreso\n"
     ]
    }
   ],
   "source": [
    "row_count = 1\n",
    "city_info = []\n",
    "city_info = list(weather_cities_df['City'])\n",
    "\n",
    "\n",
    "for index, row in weather_cities_df.iterrows():\n",
    "    target_url = \"http://api.openweathermap.org/data/2.5/weather?/\" + \"appid=\" + api_key + \"&units=\" + units + \"&q=\" + (row[\"City\"].replace(\" \",\"+\"))\n",
    "    \n",
    "    print(\"Now retrieving info for city #\" +str(row_count) )\n",
    "    print(target_url)\n",
    "    row_count += 1"
   ]
  },
  {
   "cell_type": "code",
   "execution_count": 606,
   "metadata": {},
   "outputs": [
    {
     "data": {
      "text/html": [
       "<div>\n",
       "<style>\n",
       "    .dataframe thead tr:only-child th {\n",
       "        text-align: right;\n",
       "    }\n",
       "\n",
       "    .dataframe thead th {\n",
       "        text-align: left;\n",
       "    }\n",
       "\n",
       "    .dataframe tbody tr th {\n",
       "        vertical-align: top;\n",
       "    }\n",
       "</style>\n",
       "<table border=\"1\" class=\"dataframe\">\n",
       "  <thead>\n",
       "    <tr style=\"text-align: right;\">\n",
       "      <th></th>\n",
       "      <th>Country</th>\n",
       "      <th>City</th>\n",
       "      <th>Latitude</th>\n",
       "      <th>Longitude</th>\n",
       "      <th>Temperature F</th>\n",
       "      <th>Humidity %</th>\n",
       "      <th>Cloudiness %</th>\n",
       "      <th>Wind Speed mph</th>\n",
       "    </tr>\n",
       "  </thead>\n",
       "  <tbody>\n",
       "    <tr>\n",
       "      <th>4943</th>\n",
       "      <td>in</td>\n",
       "      <td>binika</td>\n",
       "      <td>21.033333</td>\n",
       "      <td>83.800000</td>\n",
       "      <td>74.73</td>\n",
       "      <td>63</td>\n",
       "      <td>0</td>\n",
       "      <td>4.61</td>\n",
       "    </tr>\n",
       "    <tr>\n",
       "      <th>2566</th>\n",
       "      <td>ru</td>\n",
       "      <td>ayan</td>\n",
       "      <td>56.450000</td>\n",
       "      <td>138.166667</td>\n",
       "      <td>11.33</td>\n",
       "      <td>78</td>\n",
       "      <td>8</td>\n",
       "      <td>3.27</td>\n",
       "    </tr>\n",
       "    <tr>\n",
       "      <th>30331</th>\n",
       "      <td>br</td>\n",
       "      <td>panelas</td>\n",
       "      <td>-8.666667</td>\n",
       "      <td>-36.016667</td>\n",
       "      <td>68.21</td>\n",
       "      <td>95</td>\n",
       "      <td>92</td>\n",
       "      <td>3.60</td>\n",
       "    </tr>\n",
       "    <tr>\n",
       "      <th>15071</th>\n",
       "      <td>hu</td>\n",
       "      <td>gyongyospata</td>\n",
       "      <td>47.815049</td>\n",
       "      <td>19.789245</td>\n",
       "      <td>26.60</td>\n",
       "      <td>100</td>\n",
       "      <td>20</td>\n",
       "      <td>3.36</td>\n",
       "    </tr>\n",
       "    <tr>\n",
       "      <th>46631</th>\n",
       "      <td>pl</td>\n",
       "      <td>zielonka</td>\n",
       "      <td>52.303157</td>\n",
       "      <td>21.158459</td>\n",
       "      <td>37.40</td>\n",
       "      <td>86</td>\n",
       "      <td>90</td>\n",
       "      <td>4.70</td>\n",
       "    </tr>\n",
       "    <tr>\n",
       "      <th>9621</th>\n",
       "      <td>us</td>\n",
       "      <td>country club hills</td>\n",
       "      <td>41.568056</td>\n",
       "      <td>-87.720278</td>\n",
       "      <td>49.17</td>\n",
       "      <td>66</td>\n",
       "      <td>90</td>\n",
       "      <td>20.80</td>\n",
       "    </tr>\n",
       "    <tr>\n",
       "      <th>41651</th>\n",
       "      <td>pe</td>\n",
       "      <td>tingo maria</td>\n",
       "      <td>-9.300000</td>\n",
       "      <td>-75.983333</td>\n",
       "      <td>64.65</td>\n",
       "      <td>90</td>\n",
       "      <td>68</td>\n",
       "      <td>1.81</td>\n",
       "    </tr>\n",
       "    <tr>\n",
       "      <th>33894</th>\n",
       "      <td>hu</td>\n",
       "      <td>ricse</td>\n",
       "      <td>48.325645</td>\n",
       "      <td>21.970694</td>\n",
       "      <td>34.68</td>\n",
       "      <td>86</td>\n",
       "      <td>75</td>\n",
       "      <td>6.93</td>\n",
       "    </tr>\n",
       "    <tr>\n",
       "      <th>1645</th>\n",
       "      <td>be</td>\n",
       "      <td>anzegem</td>\n",
       "      <td>50.833333</td>\n",
       "      <td>3.466667</td>\n",
       "      <td>38.79</td>\n",
       "      <td>93</td>\n",
       "      <td>90</td>\n",
       "      <td>4.70</td>\n",
       "    </tr>\n",
       "    <tr>\n",
       "      <th>32586</th>\n",
       "      <td>mx</td>\n",
       "      <td>progreso</td>\n",
       "      <td>32.580000</td>\n",
       "      <td>-115.583889</td>\n",
       "      <td>66.20</td>\n",
       "      <td>77</td>\n",
       "      <td>0</td>\n",
       "      <td>6.93</td>\n",
       "    </tr>\n",
       "  </tbody>\n",
       "</table>\n",
       "</div>"
      ],
      "text/plain": [
       "      Country                City   Latitude   Longitude  Temperature F  \\\n",
       "4943       in              binika  21.033333   83.800000          74.73   \n",
       "2566       ru                ayan  56.450000  138.166667          11.33   \n",
       "30331      br             panelas  -8.666667  -36.016667          68.21   \n",
       "15071      hu        gyongyospata  47.815049   19.789245          26.60   \n",
       "46631      pl            zielonka  52.303157   21.158459          37.40   \n",
       "9621       us  country club hills  41.568056  -87.720278          49.17   \n",
       "41651      pe         tingo maria  -9.300000  -75.983333          64.65   \n",
       "33894      hu               ricse  48.325645   21.970694          34.68   \n",
       "1645       be             anzegem  50.833333    3.466667          38.79   \n",
       "32586      mx            progreso  32.580000 -115.583889          66.20   \n",
       "\n",
       "       Humidity %  Cloudiness %  Wind Speed mph  \n",
       "4943           63             0            4.61  \n",
       "2566           78             8            3.27  \n",
       "30331          95            92            3.60  \n",
       "15071         100            20            3.36  \n",
       "46631          86            90            4.70  \n",
       "9621           66            90           20.80  \n",
       "41651          90            68            1.81  \n",
       "33894          86            75            6.93  \n",
       "1645           93            90            4.70  \n",
       "32586          77             0            6.93  "
      ]
     },
     "execution_count": 606,
     "metadata": {},
     "output_type": "execute_result"
    }
   ],
   "source": [
    "weather_cities_df[\"Temperature F\"] = temp_data\n",
    "weather_cities_df[\"Humidity %\"] = hum_data\n",
    "weather_cities_df[\"Cloudiness %\"] = cloud_data\n",
    "weather_cities_df[\"Wind Speed mph\"] = wind_data\n",
    "#weather_cities_df[\"Temperature F\"].replace('{}', np.nan)\n",
    "#weather_cities_df['Temperature F'].replace([\"Nan\"], value=\"0\", inplace=True)\n",
    "weather_cities_df"
   ]
  },
  {
   "cell_type": "code",
   "execution_count": null,
   "metadata": {},
   "outputs": [],
   "source": []
  },
  {
   "cell_type": "code",
   "execution_count": 621,
   "metadata": {},
   "outputs": [
    {
     "data": {
      "image/png": "[encoded data removed]",
      "text/plain": [
       "<matplotlib.figure.Figure at 0x1a1f3de518>"
      ]
     },
     "metadata": {},
     "output_type": "display_data"
    }
   ],
   "source": [
    "plt.scatter(weather_cities_df['Latitude'], weather_cities_df['Temperature F'], marker='o')\n",
    "plt.title(\"Temperature in World Cities on (01/25/18)\")\n",
    "plt.ylabel(\"Temp (F)\")\n",
    "plt.xlabel(\"Latitude\")\n",
    "plt.grid(True)\n",
    "plt.xlim(-91,91)\n",
    "plt.ylim(-20,110)\n",
    "plt.savefig(\"temp_in_cities.png\")\n",
    "plt.show()"
   ]
  },
  {
   "cell_type": "code",
   "execution_count": 622,
   "metadata": {},
   "outputs": [
    {
     "data": {
      "image/png": "[encoded data removed]",
      "text/plain": [
       "<matplotlib.figure.Figure at 0x1a1d9a9550>"
      ]
     },
     "metadata": {},
     "output_type": "display_data"
    }
   ],
   "source": [
    "plt.scatter(weather_cities_df['Latitude'], weather_cities_df['Humidity %'], marker='o')\n",
    "plt.title(\"Humidity in World Cities on (01/25/18)\")\n",
    "plt.ylabel(\"Humidity %\")\n",
    "plt.xlabel(\"Latitude\")\n",
    "plt.grid(True)\n",
    "plt.xlim(-90,90)\n",
    "plt.ylim(0,105)\n",
    "plt.savefig(\"hum_in_cities.png\")\n",
    "plt.show()"
   ]
  },
  {
   "cell_type": "code",
   "execution_count": 623,
   "metadata": {},
   "outputs": [
    {
     "data": {
      "image/png": "[encoded data removed]",
      "text/plain": [
       "<matplotlib.figure.Figure at 0x1a22174518>"
      ]
     },
     "metadata": {},
     "output_type": "display_data"
    }
   ],
   "source": [
    "plt.scatter(weather_cities_df['Latitude'], weather_cities_df['Cloudiness %'], marker='o')\n",
    "plt.title(\"Cloudiness in World Cities on (01/25/18)\")\n",
    "plt.ylabel(\"Cloudiness %)\")\n",
    "plt.xlabel(\"Latitude\")\n",
    "plt.grid(True)\n",
    "plt.xlim(-91,91)\n",
    "plt.ylim(-5,100)\n",
    "plt.savefig(\"cloud_in_cities.png\")\n",
    "plt.show()"
   ]
  },
  {
   "cell_type": "code",
   "execution_count": 617,
   "metadata": {},
   "outputs": [
    {
     "data": {
      "image/png": "[encoded data removed]",
      "text/plain": [
       "<matplotlib.figure.Figure at 0x1a218d1898>"
      ]
     },
     "metadata": {},
     "output_type": "display_data"
    }
   ],
   "source": [
    "plt.scatter(weather_cities_df['Latitude'], weather_cities_df['Wind Speed mph'], marker='o')\n",
    "plt.title(\"Wind Speed in World Cities on (01/25/18)\")\n",
    "plt.ylabel(\"Wind Speed (mph)\")\n",
    "plt.xlabel(\"Latitude\")\n",
    "plt.xlim(-91,91)\n",
    "plt.ylim(0,25)\n",
    "plt.grid(True)\n",
    "plt.savefig(\"wind_in_cities.png\")\n",
    "plt.show()"
   ]
  },
  {
   "cell_type": "code",
   "execution_count": 624,
   "metadata": {},
   "outputs": [],
   "source": [
    "#According to the cloudiness in world cities chart, more cities above the equator had cloudiness than below.\n",
    "#According to the wind speed in world cities plot, majority of the cities had windspeeds below 10 mph.\n",
    "#According to the temperature vs latitude scatterplot, it appears that most of the cities decreased in temperature as it got further away from the equator during the winter."
   ]
  },
  {
   "cell_type": "code",
   "execution_count": 625,
   "metadata": {
    "collapsed": true
   },
   "outputs": [],
   "source": [
    "weather_cities_df.to_csv(\"weather_cities_data.csv\", encoding=\"utf-8\", index=False)"
   ]
  },
  {
   "cell_type": "code",
   "execution_count": null,
   "metadata": {
    "collapsed": true
   },
   "outputs": [],
   "source": []
  }
 ],
 "metadata": {
  "kernelspec": {
   "display_name": "Python 3",
   "language": "python",
   "name": "python3"
  },
  "language_info": {
   "codemirror_mode": {
    "name": "ipython",
    "version": 3
   },
   "file_extension": ".py",
   "mimetype": "text/x-python",
   "name": "python",
   "nbconvert_exporter": "python",
   "pygments_lexer": "ipython3",
   "version": "3.6.3"
  }
 },
 "nbformat": 4,
 "nbformat_minor": 2
}
